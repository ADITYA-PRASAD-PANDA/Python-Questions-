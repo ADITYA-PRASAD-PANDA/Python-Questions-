{
 "cells": [
  {
   "cell_type": "markdown",
   "id": "53ddf9c1-809a-43ef-9de1-01fdde8fb0fe",
   "metadata": {},
   "source": [
    "●\tWAP to accept an integer from the user and check whether it is an even or odd "
   ]
  },
  {
   "cell_type": "code",
   "execution_count": 1,
   "id": "4824b55f-4119-4ba1-8149-0e9f15286f28",
   "metadata": {},
   "outputs": [
    {
     "name": "stdin",
     "output_type": "stream",
     "text": [
      "Enter a  number 6\n"
     ]
    },
    {
     "name": "stdout",
     "output_type": "stream",
     "text": [
      "Even Number\n"
     ]
    }
   ],
   "source": [
    "no=int(input(\"Enter a  number\"))\n",
    "if no%2 ==0:\n",
    "    print(\"Even Number\")\n",
    "else:\n",
    "    print(\"Odd Number\")\n"
   ]
  },
  {
   "cell_type": "markdown",
   "id": "836f566a-0428-40bc-b341-8bc445395f6d",
   "metadata": {},
   "source": [
    "●\tWAP to accept a character from the user and check whether it is a capital letter or small letter. Assume user will input only alphabets"
   ]
  },
  {
   "cell_type": "code",
   "execution_count": 3,
   "id": "5139e207-4a37-442f-9df5-2b823c6e4b65",
   "metadata": {},
   "outputs": [
    {
     "name": "stdin",
     "output_type": "stream",
     "text": [
      "Enter a character C\n"
     ]
    },
    {
     "name": "stdout",
     "output_type": "stream",
     "text": [
      "Capital Letter\n"
     ]
    }
   ],
   "source": [
    "ch=input(\"Enter a character\")\n",
    "if \"A\"<= ch <=\"Z\":\n",
    "    print(\"Capital Letter\")\n",
    "else:\n",
    "    print(\"Small Letter\")"
   ]
  },
  {
   "cell_type": "markdown",
   "id": "a4ba4a7f-0bcc-4962-9365-744dadba33f5",
   "metadata": {},
   "source": [
    "●\tWAP to accept a character from the user and check whether it is a capital letter or small letter or a digit or some special symbol"
   ]
  },
  {
   "cell_type": "code",
   "execution_count": 8,
   "id": "1987702b-1f82-468e-bcaf-e42808e536a6",
   "metadata": {},
   "outputs": [
    {
     "name": "stdin",
     "output_type": "stream",
     "text": [
      "Enter your choice *\n"
     ]
    },
    {
     "name": "stdout",
     "output_type": "stream",
     "text": [
      "Special Character\n"
     ]
    }
   ],
   "source": [
    "ch=input(\"Enter your choice\")\n",
    "if \"A\"<=ch<=\"Z\":\n",
    "    print(\"Capital Letter\")\n",
    "elif \"a\"<=ch<=\"z\":\n",
    "    print(\"Small Letter\")\n",
    "elif \"0\"<=ch<=\"9\":\n",
    "    print(\"Digit\")\n",
    "else:\n",
    "    print(\"Special Character\")"
   ]
  },
  {
   "cell_type": "markdown",
   "id": "b2e7a62c-e668-4757-8c1a-edac3564a81e",
   "metadata": {},
   "source": [
    "●\tWAP to accept 3 integers from the user and without using any logical operator and cascading of relational operators , find out the greatest number amongst them"
   ]
  },
  {
   "cell_type": "code",
   "execution_count": 9,
   "id": "6c9c5c15-30a9-4e37-8972-9aa290ccae94",
   "metadata": {},
   "outputs": [
    {
     "name": "stdin",
     "output_type": "stream",
     "text": [
      "Enter the 1st number 2\n",
      "Enter the 2nd number 5\n",
      "Enter the 3rd number 1\n"
     ]
    },
    {
     "name": "stdout",
     "output_type": "stream",
     "text": [
      "2nd number is greatest\n"
     ]
    }
   ],
   "source": [
    "a=int(input(\"Enter the 1st number\"))\n",
    "b=int(input(\"Enter the 2nd number\"))\n",
    "c=int(input(\"Enter the 3rd number\"))\n",
    "\n",
    "#cascading of relational operator ka matlab chaining or multiple using  of relational operators hota hai\n",
    "if a>b:\n",
    "    if a>c:\n",
    "        print(\"1st number is greatest\")\n",
    "elif b>a:\n",
    "    if b>c:\n",
    "        print(\"2nd number is greatest\")\n",
    "else:\n",
    "    print(\"3rd number is greatest\")"
   ]
  },
  {
   "cell_type": "markdown",
   "id": "37ae844a-ecd8-4ad0-87e5-7657eca5410d",
   "metadata": {},
   "source": []
  }
 ],
 "metadata": {
  "kernelspec": {
   "display_name": "Python 3 (ipykernel)",
   "language": "python",
   "name": "python3"
  },
  "language_info": {
   "codemirror_mode": {
    "name": "ipython",
    "version": 3
   },
   "file_extension": ".py",
   "mimetype": "text/x-python",
   "name": "python",
   "nbconvert_exporter": "python",
   "pygments_lexer": "ipython3",
   "version": "3.10.8"
  }
 },
 "nbformat": 4,
 "nbformat_minor": 5
}
